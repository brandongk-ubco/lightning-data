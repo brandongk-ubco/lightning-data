{
 "cells": [
  {
   "cell_type": "code",
   "execution_count": 1,
   "id": "1b43fce5-7592-4e94-a391-4bfc5475dd69",
   "metadata": {},
   "outputs": [],
   "source": [
    "import lightningdata"
   ]
  },
  {
   "cell_type": "code",
   "execution_count": 4,
   "id": "9efc56dd-b6a6-4a3a-aeee-99e561a39d36",
   "metadata": {},
   "outputs": [
    {
     "data": {
      "text/plain": [
       "torch.Size([60000, 28, 28])"
      ]
     },
     "execution_count": 4,
     "metadata": {},
     "output_type": "execute_result"
    }
   ],
   "source": [
    "mnist = lightningdata.Datasets.get(\"mnist\")(data_dir=r\"E:\\datasets\")\n",
    "mnist.train_data.size()"
   ]
  }
 ],
 "metadata": {
  "kernelspec": {
   "display_name": "Python 3 (ipykernel)",
   "language": "python",
   "name": "python3"
  },
  "language_info": {
   "codemirror_mode": {
    "name": "ipython",
    "version": 3
   },
   "file_extension": ".py",
   "mimetype": "text/x-python",
   "name": "python",
   "nbconvert_exporter": "python",
   "pygments_lexer": "ipython3",
   "version": "3.8.12"
  }
 },
 "nbformat": 4,
 "nbformat_minor": 5
}
